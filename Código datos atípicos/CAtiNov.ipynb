{
 "cells": [
  {
   "cell_type": "code",
   "execution_count": 1,
   "metadata": {},
   "outputs": [
    {
     "data": {
      "text/html": [
       "<div>\n",
       "<style scoped>\n",
       "    .dataframe tbody tr th:only-of-type {\n",
       "        vertical-align: middle;\n",
       "    }\n",
       "\n",
       "    .dataframe tbody tr th {\n",
       "        vertical-align: top;\n",
       "    }\n",
       "\n",
       "    .dataframe thead th {\n",
       "        text-align: right;\n",
       "    }\n",
       "</style>\n",
       "<table border=\"1\" class=\"dataframe\">\n",
       "  <thead>\n",
       "    <tr style=\"text-align: right;\">\n",
       "      <th></th>\n",
       "      <th>Unnamed: 0</th>\n",
       "      <th>CODOPERACION</th>\n",
       "      <th>DESCRIPCION</th>\n",
       "      <th>USO_ENERGIA</th>\n",
       "      <th>FECHA_LC</th>\n",
       "      <th>HORA_LC</th>\n",
       "      <th>KWH</th>\n",
       "      <th>KWH /15 MIN</th>\n",
       "    </tr>\n",
       "  </thead>\n",
       "  <tbody>\n",
       "    <tr>\n",
       "      <th>0</th>\n",
       "      <td>2882</td>\n",
       "      <td>OP.20150323181324</td>\n",
       "      <td>A.1B (FerrÃ¡ndiz): consumo elÃ©ctrico general</td>\n",
       "      <td>ALL</td>\n",
       "      <td>01/11/2018</td>\n",
       "      <td>00:15</td>\n",
       "      <td>1882785.0</td>\n",
       "      <td>5.0</td>\n",
       "    </tr>\n",
       "    <tr>\n",
       "      <th>1</th>\n",
       "      <td>2883</td>\n",
       "      <td>OP.20150323181324</td>\n",
       "      <td>A.1B (FerrÃ¡ndiz): consumo elÃ©ctrico general</td>\n",
       "      <td>ALL</td>\n",
       "      <td>01/11/2018</td>\n",
       "      <td>00:30</td>\n",
       "      <td>1882789.0</td>\n",
       "      <td>4.0</td>\n",
       "    </tr>\n",
       "    <tr>\n",
       "      <th>2</th>\n",
       "      <td>2884</td>\n",
       "      <td>OP.20150323181324</td>\n",
       "      <td>A.1B (FerrÃ¡ndiz): consumo elÃ©ctrico general</td>\n",
       "      <td>ALL</td>\n",
       "      <td>01/11/2018</td>\n",
       "      <td>00:45</td>\n",
       "      <td>1882793.0</td>\n",
       "      <td>4.0</td>\n",
       "    </tr>\n",
       "    <tr>\n",
       "      <th>3</th>\n",
       "      <td>2885</td>\n",
       "      <td>OP.20150323181324</td>\n",
       "      <td>A.1B (FerrÃ¡ndiz): consumo elÃ©ctrico general</td>\n",
       "      <td>ALL</td>\n",
       "      <td>01/11/2018</td>\n",
       "      <td>01:00</td>\n",
       "      <td>1882797.0</td>\n",
       "      <td>4.0</td>\n",
       "    </tr>\n",
       "    <tr>\n",
       "      <th>4</th>\n",
       "      <td>2886</td>\n",
       "      <td>OP.20150323181324</td>\n",
       "      <td>A.1B (FerrÃ¡ndiz): consumo elÃ©ctrico general</td>\n",
       "      <td>ALL</td>\n",
       "      <td>01/11/2018</td>\n",
       "      <td>01:15</td>\n",
       "      <td>1882801.0</td>\n",
       "      <td>4.0</td>\n",
       "    </tr>\n",
       "  </tbody>\n",
       "</table>\n",
       "</div>"
      ],
      "text/plain": [
       "   Unnamed: 0       CODOPERACION  \\\n",
       "0        2882  OP.20150323181324   \n",
       "1        2883  OP.20150323181324   \n",
       "2        2884  OP.20150323181324   \n",
       "3        2885  OP.20150323181324   \n",
       "4        2886  OP.20150323181324   \n",
       "\n",
       "                                     DESCRIPCION USO_ENERGIA    FECHA_LC  \\\n",
       "0  A.1B (FerrÃ¡ndiz): consumo elÃ©ctrico general         ALL  01/11/2018   \n",
       "1  A.1B (FerrÃ¡ndiz): consumo elÃ©ctrico general         ALL  01/11/2018   \n",
       "2  A.1B (FerrÃ¡ndiz): consumo elÃ©ctrico general         ALL  01/11/2018   \n",
       "3  A.1B (FerrÃ¡ndiz): consumo elÃ©ctrico general         ALL  01/11/2018   \n",
       "4  A.1B (FerrÃ¡ndiz): consumo elÃ©ctrico general         ALL  01/11/2018   \n",
       "\n",
       "  HORA_LC        KWH  KWH /15 MIN  \n",
       "0   00:15  1882785.0          5.0  \n",
       "1   00:30  1882789.0          4.0  \n",
       "2   00:45  1882793.0          4.0  \n",
       "3   01:00  1882797.0          4.0  \n",
       "4   01:15  1882801.0          4.0  "
      ]
     },
     "execution_count": 1,
     "metadata": {},
     "output_type": "execute_result"
    }
   ],
   "source": [
    "import pandas as pd\n",
    "df = pd.read_csv('NovConAti.csv', sep=';', encoding = 'ISO-8859-1')\n",
    "df.head()"
   ]
  },
  {
   "cell_type": "code",
   "execution_count": 2,
   "metadata": {},
   "outputs": [],
   "source": [
    "atipicos1 = df.loc[df['KWH /15 MIN'] >= 100518]"
   ]
  },
  {
   "cell_type": "code",
   "execution_count": 3,
   "metadata": {},
   "outputs": [
    {
     "data": {
      "text/plain": [
       "Unnamed: 0      181\n",
       "CODOPERACION    181\n",
       "DESCRIPCION     181\n",
       "USO_ENERGIA     181\n",
       "FECHA_LC        181\n",
       "HORA_LC         181\n",
       "KWH             181\n",
       "KWH /15 MIN     181\n",
       "dtype: int64"
      ]
     },
     "execution_count": 3,
     "metadata": {},
     "output_type": "execute_result"
    }
   ],
   "source": [
    "atipicos1.count()"
   ]
  },
  {
   "cell_type": "code",
   "execution_count": 2,
   "metadata": {},
   "outputs": [],
   "source": [
    "atipicos2 = df.loc[df['KWH /15 MIN'] >= 11699]"
   ]
  },
  {
   "cell_type": "code",
   "execution_count": 5,
   "metadata": {},
   "outputs": [
    {
     "data": {
      "text/plain": [
       "Unnamed: 0      199\n",
       "CODOPERACION    199\n",
       "DESCRIPCION     199\n",
       "USO_ENERGIA     199\n",
       "FECHA_LC        199\n",
       "HORA_LC         199\n",
       "KWH             199\n",
       "KWH /15 MIN     199\n",
       "dtype: int64"
      ]
     },
     "execution_count": 5,
     "metadata": {},
     "output_type": "execute_result"
    }
   ],
   "source": [
    "atipicos2.count()"
   ]
  },
  {
   "cell_type": "code",
   "execution_count": 6,
   "metadata": {},
   "outputs": [],
   "source": [
    "df.drop(atipicos2.index, inplace = True)"
   ]
  },
  {
   "cell_type": "code",
   "execution_count": 7,
   "metadata": {},
   "outputs": [],
   "source": [
    "edificios = df.groupby('DESCRIPCION')['KWH /15 MIN'].count()"
   ]
  },
  {
   "cell_type": "code",
   "execution_count": 9,
   "metadata": {},
   "outputs": [
    {
     "data": {
      "text/plain": [
       "DESCRIPCION\n",
       "0A: Consumo elÃ©ctrico general del alumbrado pÃºblico                                               1486\n",
       "A.1B (FerrÃ¡ndiz): consumo elÃ©ctrico general                                                       2877\n",
       "A.1C (Carbonell): consumo elÃ©ctrico general                                                        2867\n",
       "A.1D (Deportes): consumo elÃ©ctrico general                                                         2859\n",
       "Consumo elÃ©ctrico del edificio V.5Q                                                                2507\n",
       "Consumo elÃ©ctrico general                                                                          2850\n",
       "Consumo elÃ©ctrico general de la CPI: edificios V.8G, V.8E, V.8B, V.8M                              2716\n",
       "Consumo elÃ©ctrico general de la ETSIAMN: edificios V.3C, V.3G, V.3H, V.3I, V.3J, V.3K              2804\n",
       "Consumo elÃ©ctrico general de la ETSICCyP: edificios V.4A, V.4E, V.4H                               2854\n",
       "Consumo elÃ©ctrico general de las pistas deportivas junto al edificio V.7C y el aparcamiento P7B    1453\n",
       "Consumo elÃ©ctrico general de los edificios V.1A, V.1B y V.1D                                       2720\n",
       "Consumo elÃ©ctrico general de los edificios V.1E y V.1H                                             2823\n",
       "Consumo elÃ©ctrico general de los edificios V.2E y V.3A                                             2717\n",
       "Consumo elÃ©ctrico general de los edificios V.5C y V.5D                                             2861\n",
       "Consumo elÃ©ctrico general de los edificios V.7I y V.7J                                             2824\n",
       "Consumo elÃ©ctrico general del campo de fÃºtbol                                                      433\n",
       "Consumo elÃ©ctrico general del edificio V.1C                                                        2592\n",
       "Consumo elÃ©ctrico general del edificio V.1F                                                        2749\n",
       "Consumo elÃ©ctrico general del edificio V.1G                                                        2715\n",
       "Consumo elÃ©ctrico general del edificio V.2A                                                        2862\n",
       "Consumo elÃ©ctrico general del edificio V.2B                                                        2705\n",
       "Consumo elÃ©ctrico general del edificio V.2C                                                        2368\n",
       "Consumo elÃ©ctrico general del edificio V.2D                                                        2512\n",
       "Consumo elÃ©ctrico general del edificio V.2F                                                        2630\n",
       "Consumo elÃ©ctrico general del edificio V.3B                                                        2219\n",
       "Consumo elÃ©ctrico general del edificio V.3F                                                        2869\n",
       "Consumo elÃ©ctrico general del edificio V.3M                                                        2828\n",
       "Consumo elÃ©ctrico general del edificio V.3N                                                        2842\n",
       "Consumo elÃ©ctrico general del edificio V.3P                                                        2852\n",
       "Consumo elÃ©ctrico general del edificio V.4D                                                        2689\n",
       "                                                                                                    ... \n",
       "Consumo elÃ©ctrico general del edificio V.7A                                                        2320\n",
       "Consumo elÃ©ctrico general del edificio V.7C                                                        2832\n",
       "Consumo elÃ©ctrico general del edificio V.7D                                                        2524\n",
       "Consumo elÃ©ctrico general del edificio V.7F                                                        2570\n",
       "Consumo elÃ©ctrico general del edificio V.7G                                                        2834\n",
       "Consumo elÃ©ctrico general del edificio V.7H                                                        2782\n",
       "Consumo elÃ©ctrico general del edificio V.8A                                                         854\n",
       "Consumo elÃ©ctrico general del edificio V.8C                                                        2868\n",
       "Consumo elÃ©ctrico general del edificio V.8D                                                        2866\n",
       "Consumo elÃ©ctrico general del edificio V.8F                                                        2877\n",
       "Consumo elÃ©ctrico general del edificio V.8H                                                        2513\n",
       "Consumo elÃ©ctrico general del edificio V.8I y V.8J                                                 2850\n",
       "Consumo elÃ©ctrico general del edificio V.8K                                                        2356\n",
       "Consumo elÃ©ctrico general del edificio V.8N                                                        2280\n",
       "Consumo elÃ©ctrico general del edificio V.8P                                                        2867\n",
       "Consumo elÃ©ctrico general del edificio V.9A                                                        2008\n",
       "Consumo elÃ©ctrico general del edificio V.9B                                                        2874\n",
       "Consumo elÃ©ctrico general del edificio V.9C                                                        2867\n",
       "Consumo elÃ©ctrico general del edificio V.9D                                                        2790\n",
       "Consumo energÃ©tico general de la ETSII: edificios V.5F, V.5H y V.5J                                2856\n",
       "G.1A: consumo elÃ©ctrico general del edificio                                                       2868\n",
       "G.1B: consumo elÃ©ctrico general del edificio                                                       2870\n",
       "G.1C: consumo elÃ©ctrico general del edificio                                                       2688\n",
       "G.1D: consumo elÃ©ctrico general del edificio                                                       2576\n",
       "G.1E: consumo elÃ©ctrico general del edificio                                                       2784\n",
       "G.1F: consumo elÃ©ctrico general del edificio                                                       2295\n",
       "G.1G: consumo elÃ©ctrico general del edificio                                                       2262\n",
       "G.1H: consumo elÃ©ctrico general del edificio                                                       2842\n",
       "IIE (prefabricado): consumo elÃ©ctrico general                                                        45\n",
       "V.4N (ICITECH): consumo elÃ©ctrico general                                                          2224\n",
       "Name: KWH /15 MIN, Length: 84, dtype: int64"
      ]
     },
     "execution_count": 9,
     "metadata": {},
     "output_type": "execute_result"
    }
   ],
   "source": [
    "edificios"
   ]
  },
  {
   "cell_type": "code",
   "execution_count": 10,
   "metadata": {},
   "outputs": [
    {
     "data": {
      "text/plain": [
       "Unnamed: 0      213700\n",
       "CODOPERACION    213700\n",
       "DESCRIPCION     213700\n",
       "USO_ENERGIA     213700\n",
       "FECHA_LC        213700\n",
       "HORA_LC         213700\n",
       "KWH             213700\n",
       "KWH /15 MIN     213700\n",
       "dtype: int64"
      ]
     },
     "execution_count": 10,
     "metadata": {},
     "output_type": "execute_result"
    }
   ],
   "source": [
    "df.count()"
   ]
  },
  {
   "cell_type": "code",
   "execution_count": 11,
   "metadata": {},
   "outputs": [],
   "source": [
    "df.to_csv('NovSinAti.csv', sep = ';')"
   ]
  },
  {
   "cell_type": "code",
   "execution_count": 3,
   "metadata": {},
   "outputs": [],
   "source": [
    "atipicos2.to_csv('NovAti.csv', sep = ';')"
   ]
  },
  {
   "cell_type": "code",
   "execution_count": null,
   "metadata": {},
   "outputs": [],
   "source": []
  }
 ],
 "metadata": {
  "kernelspec": {
   "display_name": "Python 3",
   "language": "python",
   "name": "python3"
  },
  "language_info": {
   "codemirror_mode": {
    "name": "ipython",
    "version": 3
   },
   "file_extension": ".py",
   "mimetype": "text/x-python",
   "name": "python",
   "nbconvert_exporter": "python",
   "pygments_lexer": "ipython3",
   "version": "3.7.3"
  }
 },
 "nbformat": 4,
 "nbformat_minor": 4
}
