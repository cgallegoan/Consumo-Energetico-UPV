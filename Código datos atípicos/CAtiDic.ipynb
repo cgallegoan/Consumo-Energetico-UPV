{
 "cells": [
  {
   "cell_type": "code",
   "execution_count": 2,
   "metadata": {},
   "outputs": [
    {
     "data": {
      "text/html": [
       "<div>\n",
       "<style scoped>\n",
       "    .dataframe tbody tr th:only-of-type {\n",
       "        vertical-align: middle;\n",
       "    }\n",
       "\n",
       "    .dataframe tbody tr th {\n",
       "        vertical-align: top;\n",
       "    }\n",
       "\n",
       "    .dataframe thead th {\n",
       "        text-align: right;\n",
       "    }\n",
       "</style>\n",
       "<table border=\"1\" class=\"dataframe\">\n",
       "  <thead>\n",
       "    <tr style=\"text-align: right;\">\n",
       "      <th></th>\n",
       "      <th>Unnamed: 0</th>\n",
       "      <th>CODOPERACION</th>\n",
       "      <th>DESCRIPCION</th>\n",
       "      <th>USO_ENERGIA</th>\n",
       "      <th>FECHA_LC</th>\n",
       "      <th>HORA_LC</th>\n",
       "      <th>KWH</th>\n",
       "      <th>KWH /15 MIN</th>\n",
       "    </tr>\n",
       "  </thead>\n",
       "  <tbody>\n",
       "    <tr>\n",
       "      <th>0</th>\n",
       "      <td>2978</td>\n",
       "      <td>OP.20150323181324</td>\n",
       "      <td>A.1B (FerrÃ¡ndiz): consumo elÃ©ctrico general</td>\n",
       "      <td>ALL</td>\n",
       "      <td>01/12/2018</td>\n",
       "      <td>00:15</td>\n",
       "      <td>1914421.0</td>\n",
       "      <td>5.0</td>\n",
       "    </tr>\n",
       "    <tr>\n",
       "      <th>1</th>\n",
       "      <td>2979</td>\n",
       "      <td>OP.20150323181324</td>\n",
       "      <td>A.1B (FerrÃ¡ndiz): consumo elÃ©ctrico general</td>\n",
       "      <td>ALL</td>\n",
       "      <td>01/12/2018</td>\n",
       "      <td>00:30</td>\n",
       "      <td>1914426.0</td>\n",
       "      <td>5.0</td>\n",
       "    </tr>\n",
       "    <tr>\n",
       "      <th>2</th>\n",
       "      <td>2980</td>\n",
       "      <td>OP.20150323181324</td>\n",
       "      <td>A.1B (FerrÃ¡ndiz): consumo elÃ©ctrico general</td>\n",
       "      <td>ALL</td>\n",
       "      <td>01/12/2018</td>\n",
       "      <td>00:45</td>\n",
       "      <td>1914431.0</td>\n",
       "      <td>5.0</td>\n",
       "    </tr>\n",
       "    <tr>\n",
       "      <th>3</th>\n",
       "      <td>2981</td>\n",
       "      <td>OP.20150323181324</td>\n",
       "      <td>A.1B (FerrÃ¡ndiz): consumo elÃ©ctrico general</td>\n",
       "      <td>ALL</td>\n",
       "      <td>01/12/2018</td>\n",
       "      <td>01:00</td>\n",
       "      <td>1914436.0</td>\n",
       "      <td>5.0</td>\n",
       "    </tr>\n",
       "    <tr>\n",
       "      <th>4</th>\n",
       "      <td>2982</td>\n",
       "      <td>OP.20150323181324</td>\n",
       "      <td>A.1B (FerrÃ¡ndiz): consumo elÃ©ctrico general</td>\n",
       "      <td>ALL</td>\n",
       "      <td>01/12/2018</td>\n",
       "      <td>01:15</td>\n",
       "      <td>1914441.0</td>\n",
       "      <td>5.0</td>\n",
       "    </tr>\n",
       "  </tbody>\n",
       "</table>\n",
       "</div>"
      ],
      "text/plain": [
       "   Unnamed: 0       CODOPERACION  \\\n",
       "0        2978  OP.20150323181324   \n",
       "1        2979  OP.20150323181324   \n",
       "2        2980  OP.20150323181324   \n",
       "3        2981  OP.20150323181324   \n",
       "4        2982  OP.20150323181324   \n",
       "\n",
       "                                     DESCRIPCION USO_ENERGIA    FECHA_LC  \\\n",
       "0  A.1B (FerrÃ¡ndiz): consumo elÃ©ctrico general         ALL  01/12/2018   \n",
       "1  A.1B (FerrÃ¡ndiz): consumo elÃ©ctrico general         ALL  01/12/2018   \n",
       "2  A.1B (FerrÃ¡ndiz): consumo elÃ©ctrico general         ALL  01/12/2018   \n",
       "3  A.1B (FerrÃ¡ndiz): consumo elÃ©ctrico general         ALL  01/12/2018   \n",
       "4  A.1B (FerrÃ¡ndiz): consumo elÃ©ctrico general         ALL  01/12/2018   \n",
       "\n",
       "  HORA_LC        KWH  KWH /15 MIN  \n",
       "0   00:15  1914421.0          5.0  \n",
       "1   00:30  1914426.0          5.0  \n",
       "2   00:45  1914431.0          5.0  \n",
       "3   01:00  1914436.0          5.0  \n",
       "4   01:15  1914441.0          5.0  "
      ]
     },
     "execution_count": 2,
     "metadata": {},
     "output_type": "execute_result"
    }
   ],
   "source": [
    "import pandas as pd\n",
    "df = pd.read_csv('DicConAti.csv', sep=';', encoding = 'ISO-8859-1')\n",
    "df.head()"
   ]
  },
  {
   "cell_type": "code",
   "execution_count": 3,
   "metadata": {},
   "outputs": [],
   "source": [
    "atipicos1 = df.loc[df['KWH /15 MIN'] >= 1025645]"
   ]
  },
  {
   "cell_type": "code",
   "execution_count": 4,
   "metadata": {},
   "outputs": [
    {
     "data": {
      "text/plain": [
       "Unnamed: 0      138\n",
       "CODOPERACION    138\n",
       "DESCRIPCION     138\n",
       "USO_ENERGIA     138\n",
       "FECHA_LC        138\n",
       "HORA_LC         138\n",
       "KWH             138\n",
       "KWH /15 MIN     138\n",
       "dtype: int64"
      ]
     },
     "execution_count": 4,
     "metadata": {},
     "output_type": "execute_result"
    }
   ],
   "source": [
    "atipicos1.count()"
   ]
  },
  {
   "cell_type": "code",
   "execution_count": 3,
   "metadata": {},
   "outputs": [],
   "source": [
    "atipicos2 = df.loc[df['KWH /15 MIN'] >= 12002]"
   ]
  },
  {
   "cell_type": "code",
   "execution_count": 6,
   "metadata": {},
   "outputs": [
    {
     "data": {
      "text/plain": [
       "Unnamed: 0      201\n",
       "CODOPERACION    201\n",
       "DESCRIPCION     201\n",
       "USO_ENERGIA     201\n",
       "FECHA_LC        201\n",
       "HORA_LC         201\n",
       "KWH             201\n",
       "KWH /15 MIN     201\n",
       "dtype: int64"
      ]
     },
     "execution_count": 6,
     "metadata": {},
     "output_type": "execute_result"
    }
   ],
   "source": [
    "atipicos2.count()"
   ]
  },
  {
   "cell_type": "code",
   "execution_count": 7,
   "metadata": {},
   "outputs": [],
   "source": [
    "df.drop(atipicos2.index, inplace = True)"
   ]
  },
  {
   "cell_type": "code",
   "execution_count": 8,
   "metadata": {},
   "outputs": [],
   "source": [
    "edificios = df.groupby('DESCRIPCION')['KWH /15 MIN'].count()"
   ]
  },
  {
   "cell_type": "code",
   "execution_count": 9,
   "metadata": {},
   "outputs": [
    {
     "data": {
      "text/plain": [
       "DESCRIPCION\n",
       "0A: Consumo elÃ©ctrico general del alumbrado pÃºblico                                               1699\n",
       "A.1B (FerrÃ¡ndiz): consumo elÃ©ctrico general                                                       2975\n",
       "A.1C (Carbonell): consumo elÃ©ctrico general                                                        2965\n",
       "A.1D (Deportes): consumo elÃ©ctrico general                                                         2961\n",
       "Consumo elÃ©ctrico del edificio V.5Q                                                                2866\n",
       "Consumo elÃ©ctrico general                                                                          2954\n",
       "Consumo elÃ©ctrico general de la CPI: edificios V.8G, V.8E, V.8B, V.8M                              2792\n",
       "Consumo elÃ©ctrico general de la ETSIAMN: edificios V.3C, V.3G, V.3H, V.3I, V.3J, V.3K              2896\n",
       "Consumo elÃ©ctrico general de la ETSICCyP: edificios V.4A, V.4E, V.4H                               2950\n",
       "Consumo elÃ©ctrico general de las pistas deportivas junto al edificio V.7C y el aparcamiento P7B    1262\n",
       "Consumo elÃ©ctrico general de los edificios V.1A, V.1B y V.1D                                       2801\n",
       "Consumo elÃ©ctrico general de los edificios V.1E y V.1H                                             2946\n",
       "Consumo elÃ©ctrico general de los edificios V.2E y V.3A                                             2933\n",
       "Consumo elÃ©ctrico general de los edificios V.5C y V.5D                                             2961\n",
       "Consumo elÃ©ctrico general de los edificios V.7I y V.7J                                             2967\n",
       "Consumo elÃ©ctrico general del campo de fÃºtbol                                                      361\n",
       "Consumo elÃ©ctrico general del edificio V.1C                                                        2857\n",
       "Consumo elÃ©ctrico general del edificio V.1F                                                        2973\n",
       "Consumo elÃ©ctrico general del edificio V.1G                                                        2973\n",
       "Consumo elÃ©ctrico general del edificio V.2A                                                        2975\n",
       "Consumo elÃ©ctrico general del edificio V.2B                                                        2689\n",
       "Consumo elÃ©ctrico general del edificio V.2C                                                        2206\n",
       "Consumo elÃ©ctrico general del edificio V.2D                                                        2415\n",
       "Consumo elÃ©ctrico general del edificio V.2F                                                        2809\n",
       "Consumo elÃ©ctrico general del edificio V.3B                                                        2148\n",
       "Consumo elÃ©ctrico general del edificio V.3F                                                        2967\n",
       "Consumo elÃ©ctrico general del edificio V.3M                                                        2881\n",
       "Consumo elÃ©ctrico general del edificio V.3N                                                        2886\n",
       "Consumo elÃ©ctrico general del edificio V.3P                                                        2933\n",
       "Consumo elÃ©ctrico general del edificio V.4D                                                        2975\n",
       "                                                                                                    ... \n",
       "Consumo elÃ©ctrico general del edificio V.7A                                                        2270\n",
       "Consumo elÃ©ctrico general del edificio V.7C                                                        2970\n",
       "Consumo elÃ©ctrico general del edificio V.7D                                                        2693\n",
       "Consumo elÃ©ctrico general del edificio V.7F                                                        2682\n",
       "Consumo elÃ©ctrico general del edificio V.7G                                                        2975\n",
       "Consumo elÃ©ctrico general del edificio V.7H                                                        2925\n",
       "Consumo elÃ©ctrico general del edificio V.8A                                                         886\n",
       "Consumo elÃ©ctrico general del edificio V.8C                                                        2936\n",
       "Consumo elÃ©ctrico general del edificio V.8D                                                        2961\n",
       "Consumo elÃ©ctrico general del edificio V.8F                                                        2975\n",
       "Consumo elÃ©ctrico general del edificio V.8H                                                        2789\n",
       "Consumo elÃ©ctrico general del edificio V.8I y V.8J                                                 2940\n",
       "Consumo elÃ©ctrico general del edificio V.8K                                                        2541\n",
       "Consumo elÃ©ctrico general del edificio V.8N                                                        2568\n",
       "Consumo elÃ©ctrico general del edificio V.8P                                                        2962\n",
       "Consumo elÃ©ctrico general del edificio V.9A                                                        1908\n",
       "Consumo elÃ©ctrico general del edificio V.9B                                                        2975\n",
       "Consumo elÃ©ctrico general del edificio V.9C                                                        2969\n",
       "Consumo elÃ©ctrico general del edificio V.9D                                                        2940\n",
       "Consumo energÃ©tico general de la ETSII: edificios V.5F, V.5H y V.5J                                2954\n",
       "G.1A: consumo elÃ©ctrico general del edificio                                                       2964\n",
       "G.1B: consumo elÃ©ctrico general del edificio                                                       2966\n",
       "G.1C: consumo elÃ©ctrico general del edificio                                                       2743\n",
       "G.1D: consumo elÃ©ctrico general del edificio                                                       2535\n",
       "G.1E: consumo elÃ©ctrico general del edificio                                                       2932\n",
       "G.1F: consumo elÃ©ctrico general del edificio                                                       2016\n",
       "G.1G: consumo elÃ©ctrico general del edificio                                                       2096\n",
       "G.1H: consumo elÃ©ctrico general del edificio                                                       2940\n",
       "IIE (prefabricado): consumo elÃ©ctrico general                                                        36\n",
       "V.4N (ICITECH): consumo elÃ©ctrico general                                                          2867\n",
       "Name: KWH /15 MIN, Length: 85, dtype: int64"
      ]
     },
     "execution_count": 9,
     "metadata": {},
     "output_type": "execute_result"
    }
   ],
   "source": [
    "edificios"
   ]
  },
  {
   "cell_type": "code",
   "execution_count": 10,
   "metadata": {},
   "outputs": [
    {
     "data": {
      "text/plain": [
       "Unnamed: 0      221949\n",
       "CODOPERACION    221949\n",
       "DESCRIPCION     221949\n",
       "USO_ENERGIA     221949\n",
       "FECHA_LC        221949\n",
       "HORA_LC         221949\n",
       "KWH             221949\n",
       "KWH /15 MIN     221949\n",
       "dtype: int64"
      ]
     },
     "execution_count": 10,
     "metadata": {},
     "output_type": "execute_result"
    }
   ],
   "source": [
    "df.count()"
   ]
  },
  {
   "cell_type": "code",
   "execution_count": 11,
   "metadata": {},
   "outputs": [],
   "source": [
    "df.to_csv('DicSinAti.csv', sep = ';')"
   ]
  },
  {
   "cell_type": "code",
   "execution_count": 4,
   "metadata": {},
   "outputs": [],
   "source": [
    "atipicos2.to_csv('DicAti.csv', sep = ';')"
   ]
  },
  {
   "cell_type": "code",
   "execution_count": null,
   "metadata": {},
   "outputs": [],
   "source": []
  }
 ],
 "metadata": {
  "kernelspec": {
   "display_name": "Python 3",
   "language": "python",
   "name": "python3"
  },
  "language_info": {
   "codemirror_mode": {
    "name": "ipython",
    "version": 3
   },
   "file_extension": ".py",
   "mimetype": "text/x-python",
   "name": "python",
   "nbconvert_exporter": "python",
   "pygments_lexer": "ipython3",
   "version": "3.7.3"
  }
 },
 "nbformat": 4,
 "nbformat_minor": 4
}
