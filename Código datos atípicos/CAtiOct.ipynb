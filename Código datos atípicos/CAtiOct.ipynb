{
 "cells": [
  {
   "cell_type": "code",
   "execution_count": 2,
   "metadata": {},
   "outputs": [
    {
     "data": {
      "text/html": [
       "<div>\n",
       "<style scoped>\n",
       "    .dataframe tbody tr th:only-of-type {\n",
       "        vertical-align: middle;\n",
       "    }\n",
       "\n",
       "    .dataframe tbody tr th {\n",
       "        vertical-align: top;\n",
       "    }\n",
       "\n",
       "    .dataframe thead th {\n",
       "        text-align: right;\n",
       "    }\n",
       "</style>\n",
       "<table border=\"1\" class=\"dataframe\">\n",
       "  <thead>\n",
       "    <tr style=\"text-align: right;\">\n",
       "      <th></th>\n",
       "      <th>Unnamed: 0</th>\n",
       "      <th>CODOPERACION</th>\n",
       "      <th>DESCRIPCION</th>\n",
       "      <th>USO_ENERGIA</th>\n",
       "      <th>FECHA_LC</th>\n",
       "      <th>HORA_LC</th>\n",
       "      <th>KWH</th>\n",
       "      <th>KWH /15 MIN</th>\n",
       "    </tr>\n",
       "  </thead>\n",
       "  <tbody>\n",
       "    <tr>\n",
       "      <th>0</th>\n",
       "      <td>2982</td>\n",
       "      <td>OP.20150323181324</td>\n",
       "      <td>A.1B (FerrÃ¡ndiz): consumo elÃ©ctrico general</td>\n",
       "      <td>ALL</td>\n",
       "      <td>01/10/2018</td>\n",
       "      <td>00:15</td>\n",
       "      <td>1848247.0</td>\n",
       "      <td>4.0</td>\n",
       "    </tr>\n",
       "    <tr>\n",
       "      <th>1</th>\n",
       "      <td>2983</td>\n",
       "      <td>OP.20150323181324</td>\n",
       "      <td>A.1B (FerrÃ¡ndiz): consumo elÃ©ctrico general</td>\n",
       "      <td>ALL</td>\n",
       "      <td>01/10/2018</td>\n",
       "      <td>00:30</td>\n",
       "      <td>1848251.0</td>\n",
       "      <td>4.0</td>\n",
       "    </tr>\n",
       "    <tr>\n",
       "      <th>2</th>\n",
       "      <td>2984</td>\n",
       "      <td>OP.20150323181324</td>\n",
       "      <td>A.1B (FerrÃ¡ndiz): consumo elÃ©ctrico general</td>\n",
       "      <td>ALL</td>\n",
       "      <td>01/10/2018</td>\n",
       "      <td>00:45</td>\n",
       "      <td>1848255.0</td>\n",
       "      <td>4.0</td>\n",
       "    </tr>\n",
       "    <tr>\n",
       "      <th>3</th>\n",
       "      <td>2985</td>\n",
       "      <td>OP.20150323181324</td>\n",
       "      <td>A.1B (FerrÃ¡ndiz): consumo elÃ©ctrico general</td>\n",
       "      <td>ALL</td>\n",
       "      <td>01/10/2018</td>\n",
       "      <td>01:00</td>\n",
       "      <td>1848258.0</td>\n",
       "      <td>3.0</td>\n",
       "    </tr>\n",
       "    <tr>\n",
       "      <th>4</th>\n",
       "      <td>2986</td>\n",
       "      <td>OP.20150323181324</td>\n",
       "      <td>A.1B (FerrÃ¡ndiz): consumo elÃ©ctrico general</td>\n",
       "      <td>ALL</td>\n",
       "      <td>01/10/2018</td>\n",
       "      <td>01:15</td>\n",
       "      <td>1848262.0</td>\n",
       "      <td>4.0</td>\n",
       "    </tr>\n",
       "  </tbody>\n",
       "</table>\n",
       "</div>"
      ],
      "text/plain": [
       "   Unnamed: 0       CODOPERACION  \\\n",
       "0        2982  OP.20150323181324   \n",
       "1        2983  OP.20150323181324   \n",
       "2        2984  OP.20150323181324   \n",
       "3        2985  OP.20150323181324   \n",
       "4        2986  OP.20150323181324   \n",
       "\n",
       "                                     DESCRIPCION USO_ENERGIA    FECHA_LC  \\\n",
       "0  A.1B (FerrÃ¡ndiz): consumo elÃ©ctrico general         ALL  01/10/2018   \n",
       "1  A.1B (FerrÃ¡ndiz): consumo elÃ©ctrico general         ALL  01/10/2018   \n",
       "2  A.1B (FerrÃ¡ndiz): consumo elÃ©ctrico general         ALL  01/10/2018   \n",
       "3  A.1B (FerrÃ¡ndiz): consumo elÃ©ctrico general         ALL  01/10/2018   \n",
       "4  A.1B (FerrÃ¡ndiz): consumo elÃ©ctrico general         ALL  01/10/2018   \n",
       "\n",
       "  HORA_LC        KWH  KWH /15 MIN  \n",
       "0   00:15  1848247.0          4.0  \n",
       "1   00:30  1848251.0          4.0  \n",
       "2   00:45  1848255.0          4.0  \n",
       "3   01:00  1848258.0          3.0  \n",
       "4   01:15  1848262.0          4.0  "
      ]
     },
     "execution_count": 2,
     "metadata": {},
     "output_type": "execute_result"
    }
   ],
   "source": [
    "import pandas as pd\n",
    "df = pd.read_csv('OctConAti.csv', sep=';', encoding = 'ISO-8859-1')\n",
    "df.head()"
   ]
  },
  {
   "cell_type": "code",
   "execution_count": 2,
   "metadata": {},
   "outputs": [],
   "source": [
    "atipicos1 = df.loc[df['KWH /15 MIN'] >= 821002]"
   ]
  },
  {
   "cell_type": "code",
   "execution_count": 3,
   "metadata": {},
   "outputs": [
    {
     "data": {
      "text/plain": [
       "Unnamed: 0      152\n",
       "CODOPERACION    152\n",
       "DESCRIPCION     152\n",
       "USO_ENERGIA     152\n",
       "FECHA_LC        152\n",
       "HORA_LC         152\n",
       "KWH             152\n",
       "KWH /15 MIN     152\n",
       "dtype: int64"
      ]
     },
     "execution_count": 3,
     "metadata": {},
     "output_type": "execute_result"
    }
   ],
   "source": [
    "atipicos1.count()"
   ]
  },
  {
   "cell_type": "code",
   "execution_count": 3,
   "metadata": {},
   "outputs": [],
   "source": [
    "atipicos2 = df.loc[df['KWH /15 MIN'] >= 17259]"
   ]
  },
  {
   "cell_type": "code",
   "execution_count": 5,
   "metadata": {},
   "outputs": [
    {
     "data": {
      "text/plain": [
       "Unnamed: 0      278\n",
       "CODOPERACION    278\n",
       "DESCRIPCION     278\n",
       "USO_ENERGIA     278\n",
       "FECHA_LC        278\n",
       "HORA_LC         278\n",
       "KWH             278\n",
       "KWH /15 MIN     278\n",
       "dtype: int64"
      ]
     },
     "execution_count": 5,
     "metadata": {},
     "output_type": "execute_result"
    }
   ],
   "source": [
    "atipicos2.count()"
   ]
  },
  {
   "cell_type": "code",
   "execution_count": 5,
   "metadata": {},
   "outputs": [],
   "source": [
    "df.drop(atipicos2.index, inplace = True)"
   ]
  },
  {
   "cell_type": "code",
   "execution_count": 7,
   "metadata": {},
   "outputs": [],
   "source": [
    "edificios = df.groupby('DESCRIPCION')['KWH /15 MIN'].count()"
   ]
  },
  {
   "cell_type": "code",
   "execution_count": 8,
   "metadata": {},
   "outputs": [
    {
     "data": {
      "text/plain": [
       "CODOPERACION\n",
       "20140115145200       2937\n",
       "20140116123400        179\n",
       "20140116123600       2956\n",
       "20140116123800       1614\n",
       "20140116123900       2960\n",
       "20140116124100       2955\n",
       "20140116124200       2496\n",
       "20140116124600       2913\n",
       "20140116124800       2707\n",
       "20140116124900       2630\n",
       "20140116125000       2971\n",
       "20140116125200       2949\n",
       "20140116125500        779\n",
       "20140116125630       2952\n",
       "20140116130200       2959\n",
       "20140116130400       2972\n",
       "20140116130700       2735\n",
       "20140116130800       2910\n",
       "20140116130900       2561\n",
       "20140116131000       1863\n",
       "20140116131100       2941\n",
       "20140116131200       2071\n",
       "20140116131300       2975\n",
       "20140116131400       2956\n",
       "20140116131500       2958\n",
       "20141001090214       1556\n",
       "20131223165700       2889\n",
       "20131223165900       2862\n",
       "20131223170000       2902\n",
       "20131223170100       2886\n",
       "                     ... \n",
       "20140115145700       2967\n",
       "20140115145800       2966\n",
       "20140115145900       2954\n",
       "20140115150000       2966\n",
       "20140115150030       2953\n",
       "20140115150100       2843\n",
       "20140115150200       2807\n",
       "20140116123200       2645\n",
       "2014011612323000     1968\n",
       "20140116123300       2611\n",
       "20140116123400       2770\n",
       "20140116125400       2956\n",
       "20140116130500       2844\n",
       "20140116131900       1379\n",
       "20140116132100       2934\n",
       "20141001090214       1414\n",
       "OP.20150323180416      73\n",
       "OP.20150323180634    2234\n",
       "OP.20150323181324    2969\n",
       "OP.20150323181739    2967\n",
       "OP.20150323182127    2969\n",
       "OP.20150323182941    2967\n",
       "OP.20150323183319    2786\n",
       "OP.20150323183604    2714\n",
       "OP.20150323183902    2922\n",
       "OP.20150324103330    2164\n",
       "OP.20150324104122    2076\n",
       "OP.20150324104608    2925\n",
       "OP.20150324113009     354\n",
       "OP.20180719143436    1599\n",
       "Name: KWH /15 MIN, Length: 86, dtype: int64"
      ]
     },
     "execution_count": 8,
     "metadata": {},
     "output_type": "execute_result"
    }
   ],
   "source": [
    "edificios"
   ]
  },
  {
   "cell_type": "code",
   "execution_count": 9,
   "metadata": {},
   "outputs": [
    {
     "data": {
      "text/plain": [
       "Unnamed: 0      220006\n",
       "CODOPERACION    220006\n",
       "DESCRIPCION     220006\n",
       "USO_ENERGIA     220006\n",
       "FECHA_LC        220006\n",
       "HORA_LC         220006\n",
       "KWH             220006\n",
       "KWH /15 MIN     220006\n",
       "dtype: int64"
      ]
     },
     "execution_count": 9,
     "metadata": {},
     "output_type": "execute_result"
    }
   ],
   "source": [
    "df.count()"
   ]
  },
  {
   "cell_type": "code",
   "execution_count": 4,
   "metadata": {},
   "outputs": [],
   "source": [
    "atipicos2.to_csv('OctAti.csv', sep = ';')"
   ]
  },
  {
   "cell_type": "code",
   "execution_count": 6,
   "metadata": {},
   "outputs": [],
   "source": [
    "df.to_csv('OctSinAti.csv', sep = ';')"
   ]
  },
  {
   "cell_type": "code",
   "execution_count": null,
   "metadata": {},
   "outputs": [],
   "source": []
  }
 ],
 "metadata": {
  "kernelspec": {
   "display_name": "Python 3",
   "language": "python",
   "name": "python3"
  },
  "language_info": {
   "codemirror_mode": {
    "name": "ipython",
    "version": 3
   },
   "file_extension": ".py",
   "mimetype": "text/x-python",
   "name": "python",
   "nbconvert_exporter": "python",
   "pygments_lexer": "ipython3",
   "version": "3.7.3"
  }
 },
 "nbformat": 4,
 "nbformat_minor": 4
}
