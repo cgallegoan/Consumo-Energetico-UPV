{
 "cells": [
  {
   "cell_type": "code",
   "execution_count": 1,
   "metadata": {},
   "outputs": [
    {
     "data": {
      "text/html": [
       "<div>\n",
       "<style scoped>\n",
       "    .dataframe tbody tr th:only-of-type {\n",
       "        vertical-align: middle;\n",
       "    }\n",
       "\n",
       "    .dataframe tbody tr th {\n",
       "        vertical-align: top;\n",
       "    }\n",
       "\n",
       "    .dataframe thead th {\n",
       "        text-align: right;\n",
       "    }\n",
       "</style>\n",
       "<table border=\"1\" class=\"dataframe\">\n",
       "  <thead>\n",
       "    <tr style=\"text-align: right;\">\n",
       "      <th></th>\n",
       "      <th>Unnamed: 0</th>\n",
       "      <th>CODOPERACION</th>\n",
       "      <th>DESCRIPCION</th>\n",
       "      <th>USO_ENERGIA</th>\n",
       "      <th>FECHA_LC</th>\n",
       "      <th>HORA_LC</th>\n",
       "      <th>KWH</th>\n",
       "      <th>KWH /15 MIN</th>\n",
       "    </tr>\n",
       "  </thead>\n",
       "  <tbody>\n",
       "    <tr>\n",
       "      <th>0</th>\n",
       "      <td>2882</td>\n",
       "      <td>OP.20150323181324</td>\n",
       "      <td>A.1B (FerrÃ¡ndiz): consumo elÃ©ctrico general</td>\n",
       "      <td>ALL</td>\n",
       "      <td>01/09/2018</td>\n",
       "      <td>00:15</td>\n",
       "      <td>1798148.0</td>\n",
       "      <td>3.0</td>\n",
       "    </tr>\n",
       "    <tr>\n",
       "      <th>1</th>\n",
       "      <td>2883</td>\n",
       "      <td>OP.20150323181324</td>\n",
       "      <td>A.1B (FerrÃ¡ndiz): consumo elÃ©ctrico general</td>\n",
       "      <td>ALL</td>\n",
       "      <td>01/09/2018</td>\n",
       "      <td>00:30</td>\n",
       "      <td>1798151.0</td>\n",
       "      <td>3.0</td>\n",
       "    </tr>\n",
       "    <tr>\n",
       "      <th>2</th>\n",
       "      <td>2884</td>\n",
       "      <td>OP.20150323181324</td>\n",
       "      <td>A.1B (FerrÃ¡ndiz): consumo elÃ©ctrico general</td>\n",
       "      <td>ALL</td>\n",
       "      <td>01/09/2018</td>\n",
       "      <td>00:45</td>\n",
       "      <td>1798154.0</td>\n",
       "      <td>3.0</td>\n",
       "    </tr>\n",
       "    <tr>\n",
       "      <th>3</th>\n",
       "      <td>2885</td>\n",
       "      <td>OP.20150323181324</td>\n",
       "      <td>A.1B (FerrÃ¡ndiz): consumo elÃ©ctrico general</td>\n",
       "      <td>ALL</td>\n",
       "      <td>01/09/2018</td>\n",
       "      <td>01:00</td>\n",
       "      <td>1798156.0</td>\n",
       "      <td>2.0</td>\n",
       "    </tr>\n",
       "    <tr>\n",
       "      <th>4</th>\n",
       "      <td>2886</td>\n",
       "      <td>OP.20150323181324</td>\n",
       "      <td>A.1B (FerrÃ¡ndiz): consumo elÃ©ctrico general</td>\n",
       "      <td>ALL</td>\n",
       "      <td>01/09/2018</td>\n",
       "      <td>01:15</td>\n",
       "      <td>1798159.0</td>\n",
       "      <td>3.0</td>\n",
       "    </tr>\n",
       "  </tbody>\n",
       "</table>\n",
       "</div>"
      ],
      "text/plain": [
       "   Unnamed: 0       CODOPERACION  \\\n",
       "0        2882  OP.20150323181324   \n",
       "1        2883  OP.20150323181324   \n",
       "2        2884  OP.20150323181324   \n",
       "3        2885  OP.20150323181324   \n",
       "4        2886  OP.20150323181324   \n",
       "\n",
       "                                     DESCRIPCION USO_ENERGIA    FECHA_LC  \\\n",
       "0  A.1B (FerrÃ¡ndiz): consumo elÃ©ctrico general         ALL  01/09/2018   \n",
       "1  A.1B (FerrÃ¡ndiz): consumo elÃ©ctrico general         ALL  01/09/2018   \n",
       "2  A.1B (FerrÃ¡ndiz): consumo elÃ©ctrico general         ALL  01/09/2018   \n",
       "3  A.1B (FerrÃ¡ndiz): consumo elÃ©ctrico general         ALL  01/09/2018   \n",
       "4  A.1B (FerrÃ¡ndiz): consumo elÃ©ctrico general         ALL  01/09/2018   \n",
       "\n",
       "  HORA_LC        KWH  KWH /15 MIN  \n",
       "0   00:15  1798148.0          3.0  \n",
       "1   00:30  1798151.0          3.0  \n",
       "2   00:45  1798154.0          3.0  \n",
       "3   01:00  1798156.0          2.0  \n",
       "4   01:15  1798159.0          3.0  "
      ]
     },
     "execution_count": 1,
     "metadata": {},
     "output_type": "execute_result"
    }
   ],
   "source": [
    "import pandas as pd\n",
    "df = pd.read_csv('SepConAti.csv', sep=';', encoding = 'ISO-8859-1')\n",
    "df.head()"
   ]
  },
  {
   "cell_type": "code",
   "execution_count": 2,
   "metadata": {},
   "outputs": [],
   "source": [
    "atipicos1 = df.loc[df['KWH /15 MIN'] >= 863924]"
   ]
  },
  {
   "cell_type": "code",
   "execution_count": 3,
   "metadata": {},
   "outputs": [
    {
     "data": {
      "text/plain": [
       "Unnamed: 0      134\n",
       "CODOPERACION    134\n",
       "DESCRIPCION     134\n",
       "USO_ENERGIA     134\n",
       "FECHA_LC        134\n",
       "HORA_LC         134\n",
       "KWH             134\n",
       "KWH /15 MIN     134\n",
       "dtype: int64"
      ]
     },
     "execution_count": 3,
     "metadata": {},
     "output_type": "execute_result"
    }
   ],
   "source": [
    "atipicos1.count()"
   ]
  },
  {
   "cell_type": "code",
   "execution_count": 4,
   "metadata": {},
   "outputs": [],
   "source": []
  },
  {
   "cell_type": "code",
   "execution_count": 5,
   "metadata": {},
   "outputs": [],
   "source": [
    "#en este doc no lo hacemos, pero para volver a ver los atipicos hemos eliminado esos 134 y con el resultado hemos obtenido la media más dos desviaciones típicas"
   ]
  },
  {
   "cell_type": "code",
   "execution_count": 2,
   "metadata": {},
   "outputs": [],
   "source": [
    "atipicos2 = df.loc[df['KWH /15 MIN'] >= 18931]"
   ]
  },
  {
   "cell_type": "code",
   "execution_count": 7,
   "metadata": {},
   "outputs": [
    {
     "data": {
      "text/plain": [
       "Unnamed: 0      242\n",
       "CODOPERACION    242\n",
       "DESCRIPCION     242\n",
       "USO_ENERGIA     242\n",
       "FECHA_LC        242\n",
       "HORA_LC         242\n",
       "KWH             242\n",
       "KWH /15 MIN     242\n",
       "dtype: int64"
      ]
     },
     "execution_count": 7,
     "metadata": {},
     "output_type": "execute_result"
    }
   ],
   "source": [
    "atipicos2.count()"
   ]
  },
  {
   "cell_type": "code",
   "execution_count": 8,
   "metadata": {},
   "outputs": [],
   "source": [
    "df.drop(atipicos2.index, inplace = True)"
   ]
  },
  {
   "cell_type": "code",
   "execution_count": 9,
   "metadata": {},
   "outputs": [],
   "source": [
    "edificios = df.groupby('DESCRIPCION')['KWH /15 MIN'].count()"
   ]
  },
  {
   "cell_type": "code",
   "execution_count": 10,
   "metadata": {},
   "outputs": [
    {
     "data": {
      "text/plain": [
       "CODOPERACION\n",
       "20131223165700       2814\n",
       "20131223165900       2784\n",
       "20131223170000       2831\n",
       "20131223170100       2879\n",
       "20131223170200       2879\n",
       "20131223170300       2652\n",
       "20131223170330       2576\n",
       "20131223170400       2453\n",
       "20131223170430       2548\n",
       "20131223170600       2567\n",
       "20131223170700       2837\n",
       "20131223170730       1885\n",
       "20140115142300       2861\n",
       "20140115142500       2738\n",
       "20140115142800       2775\n",
       "20140115143000       2784\n",
       "20140115143300       2810\n",
       "20140115143500       1348\n",
       "20140115143900       1749\n",
       "20140115144000       2877\n",
       "20140115144100       2670\n",
       "20140115144130       2805\n",
       "20140115144200       2872\n",
       "20140115144300       2867\n",
       "20140115144400       2879\n",
       "20140115144500       2798\n",
       "20140115144600       2817\n",
       "20140115145000       1289\n",
       "20140115145200       2830\n",
       "20140115145600       1698\n",
       "                     ... \n",
       "20140116125630       2857\n",
       "20140116130200       2839\n",
       "20140116130400       2879\n",
       "20140116130500       2734\n",
       "20140116130700       2738\n",
       "20140116130800       2788\n",
       "20140116130900       2786\n",
       "20140116131000        312\n",
       "20140116131100       2851\n",
       "20140116131200       2139\n",
       "20140116131300       2877\n",
       "20140116131400       2869\n",
       "20140116131500       2852\n",
       "20140116131900       1291\n",
       "20140116132100       2850\n",
       "20141001090214       2870\n",
       "OP.20150323180416      18\n",
       "OP.20150323180634    2664\n",
       "OP.20150323181324    2876\n",
       "OP.20150323181739    2862\n",
       "OP.20150323182127    2877\n",
       "OP.20150323182941    2869\n",
       "OP.20150323183319    2739\n",
       "OP.20150323183604    2681\n",
       "OP.20150323183902    2797\n",
       "OP.20150324103330    2080\n",
       "OP.20150324104122    1992\n",
       "OP.20150324104608    2794\n",
       "OP.20150324113009     406\n",
       "OP.20180719143436    1278\n",
       "Name: KWH /15 MIN, Length: 85, dtype: int64"
      ]
     },
     "execution_count": 10,
     "metadata": {},
     "output_type": "execute_result"
    }
   ],
   "source": [
    "edificios"
   ]
  },
  {
   "cell_type": "code",
   "execution_count": 11,
   "metadata": {},
   "outputs": [],
   "source": [
    "df.to_csv('SepSinAti.csv', sep = ';')"
   ]
  },
  {
   "cell_type": "code",
   "execution_count": 12,
   "metadata": {},
   "outputs": [
    {
     "data": {
      "text/plain": [
       "Unnamed: 0      211446\n",
       "CODOPERACION    211446\n",
       "DESCRIPCION     211446\n",
       "USO_ENERGIA     211446\n",
       "FECHA_LC        211446\n",
       "HORA_LC         211446\n",
       "KWH             211446\n",
       "KWH /15 MIN     211446\n",
       "dtype: int64"
      ]
     },
     "execution_count": 12,
     "metadata": {},
     "output_type": "execute_result"
    }
   ],
   "source": [
    "df.count()"
   ]
  },
  {
   "cell_type": "code",
   "execution_count": 3,
   "metadata": {},
   "outputs": [],
   "source": [
    "atipicos2.to_csv('SepAti.csv', sep = ';')"
   ]
  },
  {
   "cell_type": "code",
   "execution_count": null,
   "metadata": {},
   "outputs": [],
   "source": []
  }
 ],
 "metadata": {
  "kernelspec": {
   "display_name": "Python 3",
   "language": "python",
   "name": "python3"
  },
  "language_info": {
   "codemirror_mode": {
    "name": "ipython",
    "version": 3
   },
   "file_extension": ".py",
   "mimetype": "text/x-python",
   "name": "python",
   "nbconvert_exporter": "python",
   "pygments_lexer": "ipython3",
   "version": "3.7.3"
  }
 },
 "nbformat": 4,
 "nbformat_minor": 4
}
