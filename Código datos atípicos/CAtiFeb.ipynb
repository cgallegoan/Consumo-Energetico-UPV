{
 "cells": [
  {
   "cell_type": "code",
   "execution_count": 3,
   "metadata": {},
   "outputs": [
    {
     "data": {
      "text/html": [
       "<div>\n",
       "<style scoped>\n",
       "    .dataframe tbody tr th:only-of-type {\n",
       "        vertical-align: middle;\n",
       "    }\n",
       "\n",
       "    .dataframe tbody tr th {\n",
       "        vertical-align: top;\n",
       "    }\n",
       "\n",
       "    .dataframe thead th {\n",
       "        text-align: right;\n",
       "    }\n",
       "</style>\n",
       "<table border=\"1\" class=\"dataframe\">\n",
       "  <thead>\n",
       "    <tr style=\"text-align: right;\">\n",
       "      <th></th>\n",
       "      <th>Unnamed: 0</th>\n",
       "      <th>CODOPERACION</th>\n",
       "      <th>DESCRIPCION</th>\n",
       "      <th>USO_ENERGIA</th>\n",
       "      <th>FECHA_LC</th>\n",
       "      <th>HORA_LC</th>\n",
       "      <th>KWH</th>\n",
       "      <th>KWH /15 MIN</th>\n",
       "    </tr>\n",
       "  </thead>\n",
       "  <tbody>\n",
       "    <tr>\n",
       "      <th>0</th>\n",
       "      <td>2018</td>\n",
       "      <td>OP.20150323181324</td>\n",
       "      <td>A.1B (FerrÂ ndiz): consumo elÂctrico general</td>\n",
       "      <td>ALL</td>\n",
       "      <td>01/02/2019</td>\n",
       "      <td>00:15</td>\n",
       "      <td>1968892.0</td>\n",
       "      <td>6.0</td>\n",
       "    </tr>\n",
       "    <tr>\n",
       "      <th>1</th>\n",
       "      <td>2019</td>\n",
       "      <td>OP.20150323181324</td>\n",
       "      <td>A.1B (FerrÂ ndiz): consumo elÂctrico general</td>\n",
       "      <td>ALL</td>\n",
       "      <td>01/02/2019</td>\n",
       "      <td>00:30</td>\n",
       "      <td>1968896.0</td>\n",
       "      <td>4.0</td>\n",
       "    </tr>\n",
       "    <tr>\n",
       "      <th>2</th>\n",
       "      <td>2020</td>\n",
       "      <td>OP.20150323181324</td>\n",
       "      <td>A.1B (FerrÂ ndiz): consumo elÂctrico general</td>\n",
       "      <td>ALL</td>\n",
       "      <td>01/02/2019</td>\n",
       "      <td>00:45</td>\n",
       "      <td>1968901.0</td>\n",
       "      <td>5.0</td>\n",
       "    </tr>\n",
       "    <tr>\n",
       "      <th>3</th>\n",
       "      <td>2021</td>\n",
       "      <td>OP.20150323181324</td>\n",
       "      <td>A.1B (FerrÂ ndiz): consumo elÂctrico general</td>\n",
       "      <td>ALL</td>\n",
       "      <td>01/02/2019</td>\n",
       "      <td>01:00</td>\n",
       "      <td>1968906.0</td>\n",
       "      <td>5.0</td>\n",
       "    </tr>\n",
       "    <tr>\n",
       "      <th>4</th>\n",
       "      <td>2022</td>\n",
       "      <td>OP.20150323181324</td>\n",
       "      <td>A.1B (FerrÂ ndiz): consumo elÂctrico general</td>\n",
       "      <td>ALL</td>\n",
       "      <td>01/02/2019</td>\n",
       "      <td>01:15</td>\n",
       "      <td>1968911.0</td>\n",
       "      <td>5.0</td>\n",
       "    </tr>\n",
       "  </tbody>\n",
       "</table>\n",
       "</div>"
      ],
      "text/plain": [
       "   Unnamed: 0       CODOPERACION  \\\n",
       "0        2018  OP.20150323181324   \n",
       "1        2019  OP.20150323181324   \n",
       "2        2020  OP.20150323181324   \n",
       "3        2021  OP.20150323181324   \n",
       "4        2022  OP.20150323181324   \n",
       "\n",
       "                                     DESCRIPCION USO_ENERGIA    FECHA_LC  \\\n",
       "0  A.1B (FerrÂ ndiz): consumo elÂctrico general         ALL  01/02/2019   \n",
       "1  A.1B (FerrÂ ndiz): consumo elÂctrico general         ALL  01/02/2019   \n",
       "2  A.1B (FerrÂ ndiz): consumo elÂctrico general         ALL  01/02/2019   \n",
       "3  A.1B (FerrÂ ndiz): consumo elÂctrico general         ALL  01/02/2019   \n",
       "4  A.1B (FerrÂ ndiz): consumo elÂctrico general         ALL  01/02/2019   \n",
       "\n",
       "  HORA_LC        KWH  KWH /15 MIN  \n",
       "0   00:15  1968892.0          6.0  \n",
       "1   00:30  1968896.0          4.0  \n",
       "2   00:45  1968901.0          5.0  \n",
       "3   01:00  1968906.0          5.0  \n",
       "4   01:15  1968911.0          5.0  "
      ]
     },
     "execution_count": 3,
     "metadata": {},
     "output_type": "execute_result"
    }
   ],
   "source": [
    "import pandas as pd\n",
    "df = pd.read_csv('FebConAti.csv', sep=';', encoding = 'ISO-8859-1')\n",
    "df.head()"
   ]
  },
  {
   "cell_type": "code",
   "execution_count": 3,
   "metadata": {},
   "outputs": [],
   "source": [
    "atipicos1 = df.loc[df['KWH /15 MIN'] >= 177431]"
   ]
  },
  {
   "cell_type": "code",
   "execution_count": 4,
   "metadata": {},
   "outputs": [
    {
     "data": {
      "text/plain": [
       "Unnamed: 0      60\n",
       "CODOPERACION    60\n",
       "DESCRIPCION     60\n",
       "USO_ENERGIA     60\n",
       "FECHA_LC        60\n",
       "HORA_LC         60\n",
       "KWH             60\n",
       "KWH /15 MIN     60\n",
       "dtype: int64"
      ]
     },
     "execution_count": 4,
     "metadata": {},
     "output_type": "execute_result"
    }
   ],
   "source": [
    "atipicos1.count()"
   ]
  },
  {
   "cell_type": "code",
   "execution_count": 4,
   "metadata": {},
   "outputs": [],
   "source": [
    "atipicos2 = df.loc[df['KWH /15 MIN'] >= 2877]"
   ]
  },
  {
   "cell_type": "code",
   "execution_count": 6,
   "metadata": {},
   "outputs": [
    {
     "data": {
      "text/plain": [
       "Unnamed: 0      140\n",
       "CODOPERACION    140\n",
       "DESCRIPCION     140\n",
       "USO_ENERGIA     140\n",
       "FECHA_LC        140\n",
       "HORA_LC         140\n",
       "KWH             140\n",
       "KWH /15 MIN     140\n",
       "dtype: int64"
      ]
     },
     "execution_count": 6,
     "metadata": {},
     "output_type": "execute_result"
    }
   ],
   "source": [
    "atipicos2.count()"
   ]
  },
  {
   "cell_type": "code",
   "execution_count": 7,
   "metadata": {},
   "outputs": [],
   "source": [
    "df.drop(atipicos2.index, inplace = True)"
   ]
  },
  {
   "cell_type": "code",
   "execution_count": 8,
   "metadata": {},
   "outputs": [],
   "source": [
    "edificios = df.groupby('DESCRIPCION')['KWH /15 MIN'].count()"
   ]
  },
  {
   "cell_type": "code",
   "execution_count": 9,
   "metadata": {},
   "outputs": [
    {
     "data": {
      "text/plain": [
       "DESCRIPCION\n",
       "0A: Consumo elÂctrico general del alumbrado pÂ£blico                                               1037\n",
       "A.1B (FerrÂ ndiz): consumo elÂctrico general                                                       1941\n",
       "A.1C (Carbonell): consumo elÂctrico general                                                        1943\n",
       "A.1D (Deportes): consumo elÂctrico general                                                         1941\n",
       "Consumo elÂctrico del edificio V.5Q                                                                1913\n",
       "Consumo elÂctrico general                                                                          1987\n",
       "Consumo elÂctrico general de la CPI: edificios V.8G, V.8E, V.8B, V.8M                              1860\n",
       "Consumo elÂctrico general de la ETSIAMN: edificios V.3C, V.3G, V.3H, V.3I, V.3J, V.3K              1807\n",
       "Consumo elÂctrico general de la ETSICCyP: edificios V.4A, V.4E, V.4H                               1993\n",
       "Consumo elÂctrico general de las pistas deportivas junto al edificio V.7C y el aparcamiento P7B    1057\n",
       "Consumo elÂctrico general de los edificios V.1A, V.1B y V.1D                                       1967\n",
       "Consumo elÂctrico general de los edificios V.1E y V.1H                                             1842\n",
       "Consumo elÂctrico general de los edificios V.2E y V.3A                                             1982\n",
       "Consumo elÂctrico general de los edificios V.5C y V.5D                                             1941\n",
       "Consumo elÂctrico general de los edificios V.7I y V.7J                                             1997\n",
       "Consumo elÂctrico general del campo de fÂ£tbol                                                      253\n",
       "Consumo elÂctrico general del edificio V.1C                                                        1820\n",
       "Consumo elÂctrico general del edificio V.1F                                                        2012\n",
       "Consumo elÂctrico general del edificio V.1G                                                        1943\n",
       "Consumo elÂctrico general del edificio V.2A                                                        1945\n",
       "Consumo elÂctrico general del edificio V.2B                                                        1762\n",
       "Consumo elÂctrico general del edificio V.2C                                                        1606\n",
       "Consumo elÂctrico general del edificio V.2D                                                        1671\n",
       "Consumo elÂctrico general del edificio V.2F                                                        1843\n",
       "Consumo elÂctrico general del edificio V.3B                                                        1481\n",
       "Consumo elÂctrico general del edificio V.3F                                                        1999\n",
       "Consumo elÂctrico general del edificio V.3M                                                        1975\n",
       "Consumo elÂctrico general del edificio V.3N                                                        1986\n",
       "Consumo elÂctrico general del edificio V.3P                                                        1980\n",
       "Consumo elÂctrico general del edificio V.4D                                                        1945\n",
       "                                                                                                    ... \n",
       "Consumo elÂctrico general del edificio V.7A                                                        1872\n",
       "Consumo elÂctrico general del edificio V.7C                                                        1813\n",
       "Consumo elÂctrico general del edificio V.7D                                                        1833\n",
       "Consumo elÂctrico general del edificio V.7F                                                        1881\n",
       "Consumo elÂctrico general del edificio V.7G                                                        2014\n",
       "Consumo elÂctrico general del edificio V.7H                                                        1983\n",
       "Consumo elÂctrico general del edificio V.8A                                                         831\n",
       "Consumo elÂctrico general del edificio V.8C                                                        1894\n",
       "Consumo elÂctrico general del edificio V.8D                                                        1931\n",
       "Consumo elÂctrico general del edificio V.8F                                                        1946\n",
       "Consumo elÂctrico general del edificio V.8H                                                        1817\n",
       "Consumo elÂctrico general del edificio V.8I y V.8J                                                 1855\n",
       "Consumo elÂctrico general del edificio V.8K                                                        1817\n",
       "Consumo elÂctrico general del edificio V.8N                                                        1861\n",
       "Consumo elÂctrico general del edificio V.8P                                                        2005\n",
       "Consumo elÂctrico general del edificio V.9A                                                        1463\n",
       "Consumo elÂctrico general del edificio V.9B                                                        1945\n",
       "Consumo elÂctrico general del edificio V.9C                                                        1938\n",
       "Consumo elÂctrico general del edificio V.9D                                                        1912\n",
       "Consumo energÂtico general de la ETSII: edificios V.5F, V.5H y V.5J                                1979\n",
       "G.1A: consumo elÂctrico general del edificio                                                       1946\n",
       "G.1B: consumo elÂctrico general del edificio                                                       1946\n",
       "G.1C: consumo elÂctrico general del edificio                                                       1830\n",
       "G.1D: consumo elÂctrico general del edificio                                                       1807\n",
       "G.1E: consumo elÂctrico general del edificio                                                       1974\n",
       "G.1F: consumo elÂctrico general del edificio                                                       1573\n",
       "G.1G: consumo elÂctrico general del edificio                                                       1595\n",
       "G.1H: consumo elÂctrico general del edificio                                                       1975\n",
       "IIE (prefabricado): consumo elÂctrico general                                                         9\n",
       "V.4N (ICITECH): consumo elÂctrico general                                                          1835\n",
       "Name: KWH /15 MIN, Length: 85, dtype: int64"
      ]
     },
     "execution_count": 9,
     "metadata": {},
     "output_type": "execute_result"
    }
   ],
   "source": [
    "edificios"
   ]
  },
  {
   "cell_type": "code",
   "execution_count": 10,
   "metadata": {},
   "outputs": [
    {
     "data": {
      "text/plain": [
       "Unnamed: 0      150417\n",
       "CODOPERACION    150417\n",
       "DESCRIPCION     150417\n",
       "USO_ENERGIA     150417\n",
       "FECHA_LC        150417\n",
       "HORA_LC         150417\n",
       "KWH             150417\n",
       "KWH /15 MIN     150417\n",
       "dtype: int64"
      ]
     },
     "execution_count": 10,
     "metadata": {},
     "output_type": "execute_result"
    }
   ],
   "source": [
    "df.count()"
   ]
  },
  {
   "cell_type": "code",
   "execution_count": 11,
   "metadata": {},
   "outputs": [],
   "source": [
    "df.to_csv('FebSinAti.csv', sep = ';')"
   ]
  },
  {
   "cell_type": "code",
   "execution_count": 5,
   "metadata": {},
   "outputs": [],
   "source": [
    "atipicos2.to_csv('FebAti.csv', sep = ';')"
   ]
  },
  {
   "cell_type": "code",
   "execution_count": null,
   "metadata": {},
   "outputs": [],
   "source": []
  }
 ],
 "metadata": {
  "kernelspec": {
   "display_name": "Python 3",
   "language": "python",
   "name": "python3"
  },
  "language_info": {
   "codemirror_mode": {
    "name": "ipython",
    "version": 3
   },
   "file_extension": ".py",
   "mimetype": "text/x-python",
   "name": "python",
   "nbconvert_exporter": "python",
   "pygments_lexer": "ipython3",
   "version": "3.7.3"
  }
 },
 "nbformat": 4,
 "nbformat_minor": 4
}
