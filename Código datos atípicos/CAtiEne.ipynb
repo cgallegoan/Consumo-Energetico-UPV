{
 "cells": [
  {
   "cell_type": "code",
   "execution_count": 1,
   "metadata": {},
   "outputs": [
    {
     "data": {
      "text/html": [
       "<div>\n",
       "<style scoped>\n",
       "    .dataframe tbody tr th:only-of-type {\n",
       "        vertical-align: middle;\n",
       "    }\n",
       "\n",
       "    .dataframe tbody tr th {\n",
       "        vertical-align: top;\n",
       "    }\n",
       "\n",
       "    .dataframe thead th {\n",
       "        text-align: right;\n",
       "    }\n",
       "</style>\n",
       "<table border=\"1\" class=\"dataframe\">\n",
       "  <thead>\n",
       "    <tr style=\"text-align: right;\">\n",
       "      <th></th>\n",
       "      <th>Unnamed: 0</th>\n",
       "      <th>CODOPERACION</th>\n",
       "      <th>DESCRIPCION</th>\n",
       "      <th>USO_ENERGIA</th>\n",
       "      <th>FECHA_LC</th>\n",
       "      <th>HORA_LC</th>\n",
       "      <th>KWH</th>\n",
       "      <th>KWH /15 MIN</th>\n",
       "    </tr>\n",
       "  </thead>\n",
       "  <tbody>\n",
       "    <tr>\n",
       "      <th>0</th>\n",
       "      <td>2978</td>\n",
       "      <td>OP.20150323181324</td>\n",
       "      <td>A.1B (FerrÃ¡ndiz): consumo elÃ©ctrico general</td>\n",
       "      <td>ALL</td>\n",
       "      <td>01/01/2019</td>\n",
       "      <td>00:15</td>\n",
       "      <td>1940459.0</td>\n",
       "      <td>4.0</td>\n",
       "    </tr>\n",
       "    <tr>\n",
       "      <th>1</th>\n",
       "      <td>2979</td>\n",
       "      <td>OP.20150323181324</td>\n",
       "      <td>A.1B (FerrÃ¡ndiz): consumo elÃ©ctrico general</td>\n",
       "      <td>ALL</td>\n",
       "      <td>01/01/2019</td>\n",
       "      <td>00:30</td>\n",
       "      <td>1940462.0</td>\n",
       "      <td>3.0</td>\n",
       "    </tr>\n",
       "    <tr>\n",
       "      <th>2</th>\n",
       "      <td>2980</td>\n",
       "      <td>OP.20150323181324</td>\n",
       "      <td>A.1B (FerrÃ¡ndiz): consumo elÃ©ctrico general</td>\n",
       "      <td>ALL</td>\n",
       "      <td>01/01/2019</td>\n",
       "      <td>00:45</td>\n",
       "      <td>1940465.0</td>\n",
       "      <td>3.0</td>\n",
       "    </tr>\n",
       "    <tr>\n",
       "      <th>3</th>\n",
       "      <td>2981</td>\n",
       "      <td>OP.20150323181324</td>\n",
       "      <td>A.1B (FerrÃ¡ndiz): consumo elÃ©ctrico general</td>\n",
       "      <td>ALL</td>\n",
       "      <td>01/01/2019</td>\n",
       "      <td>01:00</td>\n",
       "      <td>1940468.0</td>\n",
       "      <td>3.0</td>\n",
       "    </tr>\n",
       "    <tr>\n",
       "      <th>4</th>\n",
       "      <td>2982</td>\n",
       "      <td>OP.20150323181324</td>\n",
       "      <td>A.1B (FerrÃ¡ndiz): consumo elÃ©ctrico general</td>\n",
       "      <td>ALL</td>\n",
       "      <td>01/01/2019</td>\n",
       "      <td>01:15</td>\n",
       "      <td>1940471.0</td>\n",
       "      <td>3.0</td>\n",
       "    </tr>\n",
       "  </tbody>\n",
       "</table>\n",
       "</div>"
      ],
      "text/plain": [
       "   Unnamed: 0       CODOPERACION  \\\n",
       "0        2978  OP.20150323181324   \n",
       "1        2979  OP.20150323181324   \n",
       "2        2980  OP.20150323181324   \n",
       "3        2981  OP.20150323181324   \n",
       "4        2982  OP.20150323181324   \n",
       "\n",
       "                                     DESCRIPCION USO_ENERGIA    FECHA_LC  \\\n",
       "0  A.1B (FerrÃ¡ndiz): consumo elÃ©ctrico general         ALL  01/01/2019   \n",
       "1  A.1B (FerrÃ¡ndiz): consumo elÃ©ctrico general         ALL  01/01/2019   \n",
       "2  A.1B (FerrÃ¡ndiz): consumo elÃ©ctrico general         ALL  01/01/2019   \n",
       "3  A.1B (FerrÃ¡ndiz): consumo elÃ©ctrico general         ALL  01/01/2019   \n",
       "4  A.1B (FerrÃ¡ndiz): consumo elÃ©ctrico general         ALL  01/01/2019   \n",
       "\n",
       "  HORA_LC        KWH  KWH /15 MIN  \n",
       "0   00:15  1940459.0          4.0  \n",
       "1   00:30  1940462.0          3.0  \n",
       "2   00:45  1940465.0          3.0  \n",
       "3   01:00  1940468.0          3.0  \n",
       "4   01:15  1940471.0          3.0  "
      ]
     },
     "execution_count": 1,
     "metadata": {},
     "output_type": "execute_result"
    }
   ],
   "source": [
    "import pandas as pd\n",
    "df = pd.read_csv('EneConAti.csv', sep=';', encoding = 'ISO-8859-1')\n",
    "df.head()"
   ]
  },
  {
   "cell_type": "code",
   "execution_count": 2,
   "metadata": {},
   "outputs": [],
   "source": [
    "atipicos1 = df.loc[df['KWH /15 MIN'] >= 707842]"
   ]
  },
  {
   "cell_type": "code",
   "execution_count": 3,
   "metadata": {},
   "outputs": [
    {
     "data": {
      "text/plain": [
       "Unnamed: 0      78\n",
       "CODOPERACION    78\n",
       "DESCRIPCION     78\n",
       "USO_ENERGIA     78\n",
       "FECHA_LC        78\n",
       "HORA_LC         78\n",
       "KWH             78\n",
       "KWH /15 MIN     78\n",
       "dtype: int64"
      ]
     },
     "execution_count": 3,
     "metadata": {},
     "output_type": "execute_result"
    }
   ],
   "source": [
    "atipicos1.count()"
   ]
  },
  {
   "cell_type": "code",
   "execution_count": 2,
   "metadata": {},
   "outputs": [],
   "source": [
    "atipicos2 = df.loc[df['KWH /15 MIN'] >= 63987]"
   ]
  },
  {
   "cell_type": "code",
   "execution_count": 5,
   "metadata": {},
   "outputs": [
    {
     "data": {
      "text/plain": [
       "Unnamed: 0      150\n",
       "CODOPERACION    150\n",
       "DESCRIPCION     150\n",
       "USO_ENERGIA     150\n",
       "FECHA_LC        150\n",
       "HORA_LC         150\n",
       "KWH             150\n",
       "KWH /15 MIN     150\n",
       "dtype: int64"
      ]
     },
     "execution_count": 5,
     "metadata": {},
     "output_type": "execute_result"
    }
   ],
   "source": [
    "atipicos2.count()"
   ]
  },
  {
   "cell_type": "code",
   "execution_count": 6,
   "metadata": {},
   "outputs": [],
   "source": [
    "df.drop(atipicos2.index, inplace = True)"
   ]
  },
  {
   "cell_type": "code",
   "execution_count": 7,
   "metadata": {},
   "outputs": [],
   "source": [
    "edificios = df.groupby('DESCRIPCION')['KWH /15 MIN'].count()"
   ]
  },
  {
   "cell_type": "code",
   "execution_count": 8,
   "metadata": {},
   "outputs": [
    {
     "data": {
      "text/plain": [
       "DESCRIPCION\n",
       "0A: Consumo elÃ©ctrico general del alumbrado pÃºblico                                               1603\n",
       "A.1B (FerrÃ¡ndiz): consumo elÃ©ctrico general                                                       2803\n",
       "A.1C (Carbonell): consumo elÃ©ctrico general                                                        2803\n",
       "A.1D (Deportes): consumo elÃ©ctrico general                                                         2803\n",
       "Consumo elÃ©ctrico del edificio V.5Q                                                                2657\n",
       "Consumo elÃ©ctrico general                                                                          2787\n",
       "Consumo elÃ©ctrico general de la CPI: edificios V.8G, V.8E, V.8B, V.8M                              2731\n",
       "Consumo elÃ©ctrico general de la ETSIAMN: edificios V.3C, V.3G, V.3H, V.3I, V.3J, V.3K              2608\n",
       "Consumo elÃ©ctrico general de la ETSICCyP: edificios V.4A, V.4E, V.4H                               2779\n",
       "Consumo elÃ©ctrico general de las pistas deportivas junto al edificio V.7C y el aparcamiento P7B    1598\n",
       "Consumo elÃ©ctrico general de los edificios V.1A, V.1B y V.1D                                       2795\n",
       "Consumo elÃ©ctrico general de los edificios V.1E y V.1H                                             2687\n",
       "Consumo elÃ©ctrico general de los edificios V.2E y V.3A                                             2795\n",
       "Consumo elÃ©ctrico general de los edificios V.5C y V.5D                                             2765\n",
       "Consumo elÃ©ctrico general de los edificios V.7I y V.7J                                             2671\n",
       "Consumo elÃ©ctrico general del campo de fÃºtbol                                                      360\n",
       "Consumo elÃ©ctrico general del edificio V.1C                                                        2721\n",
       "Consumo elÃ©ctrico general del edificio V.1F                                                        2837\n",
       "Consumo elÃ©ctrico general del edificio V.1G                                                        2811\n",
       "Consumo elÃ©ctrico general del edificio V.2A                                                        2776\n",
       "Consumo elÃ©ctrico general del edificio V.2B                                                        2637\n",
       "Consumo elÃ©ctrico general del edificio V.2C                                                        2247\n",
       "Consumo elÃ©ctrico general del edificio V.2D                                                        2356\n",
       "Consumo elÃ©ctrico general del edificio V.2F                                                        2749\n",
       "Consumo elÃ©ctrico general del edificio V.3B                                                        2222\n",
       "Consumo elÃ©ctrico general del edificio V.3F                                                        2803\n",
       "Consumo elÃ©ctrico general del edificio V.3M                                                        2689\n",
       "Consumo elÃ©ctrico general del edificio V.3N                                                        2693\n",
       "Consumo elÃ©ctrico general del edificio V.3P                                                        2693\n",
       "Consumo elÃ©ctrico general del edificio V.4D                                                        2810\n",
       "                                                                                                    ... \n",
       "Consumo elÃ©ctrico general del edificio V.7A                                                        2348\n",
       "Consumo elÃ©ctrico general del edificio V.7C                                                        2751\n",
       "Consumo elÃ©ctrico general del edificio V.7D                                                        2624\n",
       "Consumo elÃ©ctrico general del edificio V.7F                                                        2591\n",
       "Consumo elÃ©ctrico general del edificio V.7G                                                        2835\n",
       "Consumo elÃ©ctrico general del edificio V.7H                                                        2788\n",
       "Consumo elÃ©ctrico general del edificio V.8A                                                        1086\n",
       "Consumo elÃ©ctrico general del edificio V.8C                                                        2818\n",
       "Consumo elÃ©ctrico general del edificio V.8D                                                        2793\n",
       "Consumo elÃ©ctrico general del edificio V.8F                                                        2811\n",
       "Consumo elÃ©ctrico general del edificio V.8H                                                        2605\n",
       "Consumo elÃ©ctrico general del edificio V.8I y V.8J                                                 2674\n",
       "Consumo elÃ©ctrico general del edificio V.8K                                                        2505\n",
       "Consumo elÃ©ctrico general del edificio V.8N                                                        2753\n",
       "Consumo elÃ©ctrico general del edificio V.8P                                                        2758\n",
       "Consumo elÃ©ctrico general del edificio V.9A                                                        2010\n",
       "Consumo elÃ©ctrico general del edificio V.9B                                                        2808\n",
       "Consumo elÃ©ctrico general del edificio V.9C                                                        2785\n",
       "Consumo elÃ©ctrico general del edificio V.9D                                                        2751\n",
       "Consumo energÃ©tico general de la ETSII: edificios V.5F, V.5H y V.5J                                2714\n",
       "G.1A: consumo elÃ©ctrico general del edificio                                                       2802\n",
       "G.1B: consumo elÃ©ctrico general del edificio                                                       2775\n",
       "G.1C: consumo elÃ©ctrico general del edificio                                                       2655\n",
       "G.1D: consumo elÃ©ctrico general del edificio                                                       2444\n",
       "G.1E: consumo elÃ©ctrico general del edificio                                                       2705\n",
       "G.1F: consumo elÃ©ctrico general del edificio                                                       2012\n",
       "G.1G: consumo elÃ©ctrico general del edificio                                                       2240\n",
       "G.1H: consumo elÃ©ctrico general del edificio                                                       2696\n",
       "IIE (prefabricado): consumo elÃ©ctrico general                                                        27\n",
       "V.4N (ICITECH): consumo elÃ©ctrico general                                                          2620\n",
       "Name: KWH /15 MIN, Length: 85, dtype: int64"
      ]
     },
     "execution_count": 8,
     "metadata": {},
     "output_type": "execute_result"
    }
   ],
   "source": [
    "edificios"
   ]
  },
  {
   "cell_type": "code",
   "execution_count": 9,
   "metadata": {},
   "outputs": [
    {
     "data": {
      "text/plain": [
       "Unnamed: 0      214019\n",
       "CODOPERACION    214019\n",
       "DESCRIPCION     214019\n",
       "USO_ENERGIA     214019\n",
       "FECHA_LC        214019\n",
       "HORA_LC         214019\n",
       "KWH             214019\n",
       "KWH /15 MIN     214019\n",
       "dtype: int64"
      ]
     },
     "execution_count": 9,
     "metadata": {},
     "output_type": "execute_result"
    }
   ],
   "source": [
    "df.count()"
   ]
  },
  {
   "cell_type": "code",
   "execution_count": 10,
   "metadata": {},
   "outputs": [],
   "source": [
    "df.to_csv('EneSinAti.csv', sep = ';')"
   ]
  },
  {
   "cell_type": "code",
   "execution_count": 3,
   "metadata": {},
   "outputs": [],
   "source": [
    "atipicos2.to_csv('EneAti.csv', sep = ';')"
   ]
  },
  {
   "cell_type": "code",
   "execution_count": null,
   "metadata": {},
   "outputs": [],
   "source": []
  }
 ],
 "metadata": {
  "kernelspec": {
   "display_name": "Python 3",
   "language": "python",
   "name": "python3"
  },
  "language_info": {
   "codemirror_mode": {
    "name": "ipython",
    "version": 3
   },
   "file_extension": ".py",
   "mimetype": "text/x-python",
   "name": "python",
   "nbconvert_exporter": "python",
   "pygments_lexer": "ipython3",
   "version": "3.7.3"
  }
 },
 "nbformat": 4,
 "nbformat_minor": 4
}
